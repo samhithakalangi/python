{
 "cells": [
  {
   "cell_type": "code",
   "execution_count": 1,
   "id": "863ee906-8c0a-4f96-9642-c249710b5388",
   "metadata": {},
   "outputs": [
    {
     "name": "stdout",
     "output_type": "stream",
     "text": [
      "Integer Variable: 42, Type: <class 'int'>\n",
      "Float Variable: 3.14, Type: <class 'float'>\n",
      "String Variable: 'Hello, Jupyter!', Type: <class 'str'>\n",
      "Boolean Variable: True, Type: <class 'bool'>\n"
     ]
    }
   ],
   "source": [
    "integer_var = 42               \n",
    "float_var = 3.14                \n",
    "string_var = \"Hello, Jupyter!\" \n",
    "boolean_var = True              \n",
    "print(f\"Integer Variable: {integer_var}, Type: {type(integer_var)}\")\n",
    "print(f\"Float Variable: {float_var}, Type: {type(float_var)}\")\n",
    "print(f\"String Variable: '{string_var}', Type: {type(string_var)}\")\n",
    "print(f\"Boolean Variable: {boolean_var}, Type: {type(boolean_var)}\")\n"
   ]
  }
 ],
 "metadata": {
  "kernelspec": {
   "display_name": "Python [conda env:base] *",
   "language": "python",
   "name": "conda-base-py"
  },
  "language_info": {
   "codemirror_mode": {
    "name": "ipython",
    "version": 3
   },
   "file_extension": ".py",
   "mimetype": "text/x-python",
   "name": "python",
   "nbconvert_exporter": "python",
   "pygments_lexer": "ipython3",
   "version": "3.12.7"
  }
 },
 "nbformat": 4,
 "nbformat_minor": 5
}
