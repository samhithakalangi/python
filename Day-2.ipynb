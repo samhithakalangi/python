{
 "cells": [
  {
   "cell_type": "code",
   "execution_count": 1,
   "id": "c7d183ab-c6c7-44e1-b430-3ea2c821f99d",
   "metadata": {},
   "outputs": [
    {
     "name": "stdout",
     "output_type": "stream",
     "text": [
      "List:  [10, 20, 30, 40, 50]\n",
      "First element: 10\n",
      "Third element: 30\n",
      "Last element: 50\n"
     ]
    }
   ],
   "source": [
    "my_list = [10, 20, 30, 40, 50]\n",
    "first_element = my_list[0]   \n",
    "third_element = my_list[2]   \n",
    "last_element = my_list[-1]   \n",
    "\n",
    "print(\"List: \", my_list)\n",
    "print(\"First element:\", first_element)\n",
    "print(\"Third element:\", third_element)\n",
    "print(\"Last element:\", last_element)\n"
   ]
  },
  {
   "cell_type": "code",
   "execution_count": 3,
   "id": "416b66aa-a86c-49c9-8a71-127c9925a6d6",
   "metadata": {},
   "outputs": [
    {
     "name": "stdout",
     "output_type": "stream",
     "text": [
      "Tuple:  (100, 200, 300, 400, 500)\n",
      "Second element: 200\n",
      "Fourth element: 400\n",
      "Last element: 500\n"
     ]
    }
   ],
   "source": [
    "#tuple with 5 elements\n",
    "my_tuple = (100, 200, 300, 400, 500)\n",
    "second_element = my_tuple[1]   \n",
    "fourth_element = my_tuple[3]   \n",
    "last_element_tuple = my_tuple[-1]  \n",
    "\n",
    "print(\"Tuple: \", my_tuple)\n",
    "print(\"Second element:\", second_element)\n",
    "print(\"Fourth element:\", fourth_element)\n",
    "print(\"Last element:\", last_element_tuple)\n"
   ]
  },
  {
   "cell_type": "code",
   "execution_count": 5,
   "id": "7143fd3d-3550-4aff-82af-00339176d693",
   "metadata": {},
   "outputs": [
    {
     "name": "stdout",
     "output_type": "stream",
     "text": [
      "Dictionary: {'name': 'Alice', 'age': 25, 'city': 'New York', 'job': 'Engineer', 'country': 'USA'}\n",
      "Name: Alice\n",
      "Age: 25\n",
      "City: New York\n",
      "Country: USA\n"
     ]
    }
   ],
   "source": [
    "#dictionary with 5 key-value pairs\n",
    "my_dict = {\n",
    "    'name': 'Alice',\n",
    "    'age': 25,\n",
    "    'city': 'New York',\n",
    "    'job': 'Engineer',\n",
    "    'country': 'USA'\n",
    "}\n",
    "name = my_dict['name']   \n",
    "age = my_dict['age']    \n",
    "city = my_dict.get('city')   \n",
    "country = my_dict.get('country')\n",
    "print(\"Dictionary:\", my_dict)\n",
    "print(\"Name:\", name)\n",
    "print(\"Age:\", age)\n",
    "print(\"City:\", city)\n",
    "print(\"Country:\", country)\n"
   ]
  },
  {
   "cell_type": "code",
   "execution_count": null,
   "id": "e528ac1d-d123-473a-8865-464da2403d45",
   "metadata": {},
   "outputs": [],
   "source": []
  }
 ],
 "metadata": {
  "kernelspec": {
   "display_name": "Python [conda env:base] *",
   "language": "python",
   "name": "conda-base-py"
  },
  "language_info": {
   "codemirror_mode": {
    "name": "ipython",
    "version": 3
   },
   "file_extension": ".py",
   "mimetype": "text/x-python",
   "name": "python",
   "nbconvert_exporter": "python",
   "pygments_lexer": "ipython3",
   "version": "3.12.7"
  }
 },
 "nbformat": 4,
 "nbformat_minor": 5
}
