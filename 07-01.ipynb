{
 "cells": [
  {
   "cell_type": "code",
   "execution_count": null,
   "id": "edccfeb8",
   "metadata": {},
   "outputs": [],
   "source": [
    "#  List (homogeneous-contains same datatype)"
   ]
  },
  {
   "cell_type": "code",
   "execution_count": 2,
   "id": "87fe691f",
   "metadata": {},
   "outputs": [
    {
     "data": {
      "text/plain": [
       "[23, 78, 49, 22, 12]"
      ]
     },
     "execution_count": 2,
     "metadata": {},
     "output_type": "execute_result"
    }
   ],
   "source": [
    "a=[23,78,49,22,12]\n",
    "a"
   ]
  },
  {
   "cell_type": "code",
   "execution_count": 3,
   "id": "5c062034",
   "metadata": {},
   "outputs": [
    {
     "data": {
      "text/plain": [
       "list"
      ]
     },
     "execution_count": 3,
     "metadata": {},
     "output_type": "execute_result"
    }
   ],
   "source": [
    "type(a)"
   ]
  },
  {
   "cell_type": "code",
   "execution_count": null,
   "id": "0dc57d44",
   "metadata": {},
   "outputs": [],
   "source": [
    "List (heterogeneous-contains diff datatype)"
   ]
  },
  {
   "cell_type": "code",
   "execution_count": 5,
   "id": "5572e854",
   "metadata": {},
   "outputs": [
    {
     "data": {
      "text/plain": [
       "['data', True, 80, (3+4j), 96.2]"
      ]
     },
     "execution_count": 5,
     "metadata": {},
     "output_type": "execute_result"
    }
   ],
   "source": [
    "c=['data',True,80,3+4j,96.2]\n",
    "c"
   ]
  },
  {
   "cell_type": "code",
   "execution_count": 6,
   "id": "fdf2c864",
   "metadata": {},
   "outputs": [
    {
     "data": {
      "text/plain": [
       "list"
      ]
     },
     "execution_count": 6,
     "metadata": {},
     "output_type": "execute_result"
    }
   ],
   "source": [
    "type(c)"
   ]
  },
  {
   "cell_type": "code",
   "execution_count": null,
   "id": "0c5d72cf",
   "metadata": {},
   "outputs": [],
   "source": [
    "#indexing"
   ]
  },
  {
   "cell_type": "code",
   "execution_count": 9,
   "id": "98a25a24",
   "metadata": {},
   "outputs": [
    {
     "data": {
      "text/plain": [
       "'data'"
      ]
     },
     "execution_count": 9,
     "metadata": {},
     "output_type": "execute_result"
    }
   ],
   "source": [
    "c[0]"
   ]
  },
  {
   "cell_type": "code",
   "execution_count": 10,
   "id": "024748de",
   "metadata": {},
   "outputs": [
    {
     "data": {
      "text/plain": [
       "True"
      ]
     },
     "execution_count": 10,
     "metadata": {},
     "output_type": "execute_result"
    }
   ],
   "source": [
    "c[1]"
   ]
  },
  {
   "cell_type": "code",
   "execution_count": 11,
   "id": "04b869e3",
   "metadata": {},
   "outputs": [
    {
     "data": {
      "text/plain": [
       "80"
      ]
     },
     "execution_count": 11,
     "metadata": {},
     "output_type": "execute_result"
    }
   ],
   "source": [
    "c[2]"
   ]
  },
  {
   "cell_type": "code",
   "execution_count": null,
   "id": "3f757fa4",
   "metadata": {},
   "outputs": [],
   "source": [
    "#slicing"
   ]
  },
  {
   "cell_type": "code",
   "execution_count": 12,
   "id": "64784cc4",
   "metadata": {},
   "outputs": [
    {
     "data": {
      "text/plain": [
       "[True, 80, (3+4j)]"
      ]
     },
     "execution_count": 12,
     "metadata": {},
     "output_type": "execute_result"
    }
   ],
   "source": [
    "c[1:4]"
   ]
  },
  {
   "cell_type": "code",
   "execution_count": 13,
   "id": "9d5a6d7b",
   "metadata": {},
   "outputs": [
    {
     "data": {
      "text/plain": [
       "['data', 80, 96.2]"
      ]
     },
     "execution_count": 13,
     "metadata": {},
     "output_type": "execute_result"
    }
   ],
   "source": [
    "c[0::2]  # start : end : step (step-it takes the size)"
   ]
  },
  {
   "cell_type": "code",
   "execution_count": 15,
   "id": "9d85b6fe",
   "metadata": {},
   "outputs": [
    {
     "data": {
      "text/plain": [
       "['data', 80, 96.2]"
      ]
     },
     "execution_count": 15,
     "metadata": {},
     "output_type": "execute_result"
    }
   ],
   "source": [
    "c[0:5:2]"
   ]
  },
  {
   "cell_type": "code",
   "execution_count": 16,
   "id": "5f73fa9c",
   "metadata": {},
   "outputs": [
    {
     "data": {
      "text/plain": [
       "['data', (3+4j)]"
      ]
     },
     "execution_count": 16,
     "metadata": {},
     "output_type": "execute_result"
    }
   ],
   "source": [
    "c[0::3]"
   ]
  },
  {
   "cell_type": "code",
   "execution_count": null,
   "id": "3c58955c",
   "metadata": {},
   "outputs": [],
   "source": [
    "#negative indexing and slicing"
   ]
  },
  {
   "cell_type": "code",
   "execution_count": 18,
   "id": "4c4d1e74",
   "metadata": {},
   "outputs": [
    {
     "data": {
      "text/plain": [
       "80"
      ]
     },
     "execution_count": 18,
     "metadata": {},
     "output_type": "execute_result"
    }
   ],
   "source": [
    "c[-3]"
   ]
  },
  {
   "cell_type": "code",
   "execution_count": 23,
   "id": "c330de81",
   "metadata": {},
   "outputs": [
    {
     "data": {
      "text/plain": [
       "['data', True, 80, (3+4j), 96.2]"
      ]
     },
     "execution_count": 23,
     "metadata": {},
     "output_type": "execute_result"
    }
   ],
   "source": [
    "c"
   ]
  },
  {
   "cell_type": "code",
   "execution_count": 25,
   "id": "26a83cd0",
   "metadata": {},
   "outputs": [
    {
     "data": {
      "text/plain": [
       "[(3+4j), 80]"
      ]
     },
     "execution_count": 25,
     "metadata": {},
     "output_type": "execute_result"
    }
   ],
   "source": [
    "c[-2:-4:-1]"
   ]
  },
  {
   "cell_type": "code",
   "execution_count": 29,
   "id": "f7d17fac",
   "metadata": {},
   "outputs": [
    {
     "data": {
      "text/plain": [
       "[(3+4j), 80]"
      ]
     },
     "execution_count": 29,
     "metadata": {},
     "output_type": "execute_result"
    }
   ],
   "source": [
    "c[3:1:-1]"
   ]
  },
  {
   "cell_type": "code",
   "execution_count": 31,
   "id": "78efca61",
   "metadata": {},
   "outputs": [
    {
     "data": {
      "text/plain": [
       "[96.2, (3+4j)]"
      ]
     },
     "execution_count": 31,
     "metadata": {},
     "output_type": "execute_result"
    }
   ],
   "source": [
    "c[-1:-3:-1]"
   ]
  },
  {
   "cell_type": "code",
   "execution_count": 34,
   "id": "596de576",
   "metadata": {},
   "outputs": [
    {
     "data": {
      "text/plain": [
       "[96.2, (3+4j), 80]"
      ]
     },
     "execution_count": 34,
     "metadata": {},
     "output_type": "execute_result"
    }
   ],
   "source": [
    "c[-1:-4:-1]"
   ]
  },
  {
   "cell_type": "code",
   "execution_count": 35,
   "id": "ef0b208b",
   "metadata": {},
   "outputs": [
    {
     "data": {
      "text/plain": [
       "[True]"
      ]
     },
     "execution_count": 35,
     "metadata": {},
     "output_type": "execute_result"
    }
   ],
   "source": [
    "c[1:2]"
   ]
  },
  {
   "cell_type": "code",
   "execution_count": 36,
   "id": "ffb9e514",
   "metadata": {},
   "outputs": [
    {
     "data": {
      "text/plain": [
       "[True, 80]"
      ]
     },
     "execution_count": 36,
     "metadata": {},
     "output_type": "execute_result"
    }
   ],
   "source": [
    "c[-4:-2]"
   ]
  },
  {
   "cell_type": "code",
   "execution_count": null,
   "id": "bd93994f",
   "metadata": {},
   "outputs": [],
   "source": [
    "# another example"
   ]
  },
  {
   "cell_type": "code",
   "execution_count": 37,
   "id": "47f8d3bd",
   "metadata": {},
   "outputs": [
    {
     "data": {
      "text/plain": [
       "[203, 'Hyderbad', 45, True, False, 78, 175, 34.9]"
      ]
     },
     "execution_count": 37,
     "metadata": {},
     "output_type": "execute_result"
    }
   ],
   "source": [
    "c=[203,'Hyderbad',45,True,False,78,175,34.9]\n",
    "c"
   ]
  },
  {
   "cell_type": "code",
   "execution_count": 38,
   "id": "aa658945",
   "metadata": {},
   "outputs": [
    {
     "data": {
      "text/plain": [
       "203"
      ]
     },
     "execution_count": 38,
     "metadata": {},
     "output_type": "execute_result"
    }
   ],
   "source": [
    "c[0]"
   ]
  },
  {
   "cell_type": "code",
   "execution_count": 44,
   "id": "057113cc",
   "metadata": {},
   "outputs": [
    {
     "data": {
      "text/plain": [
       "45"
      ]
     },
     "execution_count": 44,
     "metadata": {},
     "output_type": "execute_result"
    }
   ],
   "source": [
    "c[-6]"
   ]
  },
  {
   "cell_type": "code",
   "execution_count": 41,
   "id": "06c5835a",
   "metadata": {},
   "outputs": [
    {
     "data": {
      "text/plain": [
       "[False, True, 45, 'Hyderbad']"
      ]
     },
     "execution_count": 41,
     "metadata": {},
     "output_type": "execute_result"
    }
   ],
   "source": [
    "c[-4:-8:-1]"
   ]
  },
  {
   "cell_type": "code",
   "execution_count": 42,
   "id": "96b5303d",
   "metadata": {},
   "outputs": [
    {
     "data": {
      "text/plain": [
       "['Hyderbad', 45, True, False]"
      ]
     },
     "execution_count": 42,
     "metadata": {},
     "output_type": "execute_result"
    }
   ],
   "source": [
    "c[1:5]"
   ]
  },
  {
   "cell_type": "code",
   "execution_count": 43,
   "id": "2c01a72f",
   "metadata": {},
   "outputs": [
    {
     "data": {
      "text/plain": [
       "[175, 78, False, True]"
      ]
     },
     "execution_count": 43,
     "metadata": {},
     "output_type": "execute_result"
    }
   ],
   "source": [
    "c[6:2:-1]"
   ]
  },
  {
   "cell_type": "markdown",
   "id": "acd8d1eb",
   "metadata": {},
   "source": [
    "# List methods"
   ]
  },
  {
   "cell_type": "code",
   "execution_count": null,
   "id": "152ff922",
   "metadata": {},
   "outputs": [],
   "source": [
    "append\n",
    "insert\n",
    "extend\n",
    "pop\n",
    "remove\n",
    "clear\n",
    "count"
   ]
  },
  {
   "cell_type": "code",
   "execution_count": 5,
   "id": "e643b914",
   "metadata": {},
   "outputs": [
    {
     "data": {
      "text/plain": [
       "[203, 'Hyderbad', 45, True, False, 78, 175, 34.9]"
      ]
     },
     "execution_count": 5,
     "metadata": {},
     "output_type": "execute_result"
    }
   ],
   "source": [
    "c=[203,'Hyderbad',45,True,False,78,175,34.9]\n",
    "c"
   ]
  },
  {
   "cell_type": "code",
   "execution_count": 70,
   "id": "68c2e7b9",
   "metadata": {},
   "outputs": [],
   "source": [
    "c.append(80)"
   ]
  },
  {
   "cell_type": "code",
   "execution_count": 71,
   "id": "8cf63dc0",
   "metadata": {},
   "outputs": [
    {
     "data": {
      "text/plain": [
       "[203, 90, 'Hyderbad', 45, True, False, 78, 175, 34.9, 80]"
      ]
     },
     "execution_count": 71,
     "metadata": {},
     "output_type": "execute_result"
    }
   ],
   "source": [
    "c"
   ]
  },
  {
   "cell_type": "code",
   "execution_count": 6,
   "id": "6aaf3be2",
   "metadata": {},
   "outputs": [
    {
     "data": {
      "text/plain": [
       "[203, 45, 'Hyderbad', 45, True, False, 78, 175, 34.9]"
      ]
     },
     "execution_count": 6,
     "metadata": {},
     "output_type": "execute_result"
    }
   ],
   "source": [
    "c.insert(1,45)\n",
    "c"
   ]
  },
  {
   "cell_type": "code",
   "execution_count": 8,
   "id": "f90a04d8",
   "metadata": {},
   "outputs": [
    {
     "data": {
      "text/plain": [
       "True"
      ]
     },
     "execution_count": 8,
     "metadata": {},
     "output_type": "execute_result"
    }
   ],
   "source": [
    "c.pop(3)"
   ]
  },
  {
   "cell_type": "code",
   "execution_count": 9,
   "id": "6cd95a7b",
   "metadata": {},
   "outputs": [],
   "source": [
    "c.extend([20,30,40])"
   ]
  },
  {
   "cell_type": "code",
   "execution_count": 10,
   "id": "8ea7a19b",
   "metadata": {},
   "outputs": [
    {
     "data": {
      "text/plain": [
       "[203, 45, 'Hyderbad', False, 78, 175, 34.9, 20, 30, 40]"
      ]
     },
     "execution_count": 10,
     "metadata": {},
     "output_type": "execute_result"
    }
   ],
   "source": [
    "c"
   ]
  },
  {
   "cell_type": "code",
   "execution_count": 11,
   "id": "24e17c9d",
   "metadata": {},
   "outputs": [],
   "source": [
    "c.remove(45)"
   ]
  },
  {
   "cell_type": "code",
   "execution_count": 12,
   "id": "6084018e",
   "metadata": {},
   "outputs": [
    {
     "data": {
      "text/plain": [
       "[203, 'Hyderbad', False, 78, 175, 34.9, 20, 30, 40]"
      ]
     },
     "execution_count": 12,
     "metadata": {},
     "output_type": "execute_result"
    }
   ],
   "source": [
    "c"
   ]
  }
 ],
 "metadata": {
  "kernelspec": {
   "display_name": "Python 3 (ipykernel)",
   "language": "python",
   "name": "python3"
  },
  "language_info": {
   "codemirror_mode": {
    "name": "ipython",
    "version": 3
   },
   "file_extension": ".py",
   "mimetype": "text/x-python",
   "name": "python",
   "nbconvert_exporter": "python",
   "pygments_lexer": "ipython3",
   "version": "3.11.4"
  }
 },
 "nbformat": 4,
 "nbformat_minor": 5
}
