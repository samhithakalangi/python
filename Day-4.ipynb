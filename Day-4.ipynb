{
 "cells": [
  {
   "cell_type": "code",
   "execution_count": 5,
   "id": "b962f1d3-5090-494c-8235-db025b1946c0",
   "metadata": {},
   "outputs": [
    {
     "name": "stdin",
     "output_type": "stream",
     "text": [
      "Enter a positive integer n:  20\n"
     ]
    },
    {
     "name": "stdout",
     "output_type": "stream",
     "text": [
      "The sum of all even numbers between 1 and 20 is: 110\n"
     ]
    }
   ],
   "source": [
    "##Write a Python program to calculate the sum of all even numbers between 1 and a given positive integer n\n",
    "n = int(input(\"Enter a positive integer n: \"))\n",
    "even_sum = 0\n",
    "for i in range(1, n + 1):\n",
    "    if i % 2 == 0:\n",
    "        even_sum += i\n",
    "print(\"The sum of all even numbers between 1 and\", n, \"is:\", even_sum)\n"
   ]
  },
  {
   "cell_type": "code",
   "execution_count": null,
   "id": "7af5a378-8ae4-4d1d-91bf-e0496217b0d3",
   "metadata": {},
   "outputs": [],
   "source": []
  }
 ],
 "metadata": {
  "kernelspec": {
   "display_name": "Python [conda env:base] *",
   "language": "python",
   "name": "conda-base-py"
  },
  "language_info": {
   "codemirror_mode": {
    "name": "ipython",
    "version": 3
   },
   "file_extension": ".py",
   "mimetype": "text/x-python",
   "name": "python",
   "nbconvert_exporter": "python",
   "pygments_lexer": "ipython3",
   "version": "3.12.7"
  }
 },
 "nbformat": 4,
 "nbformat_minor": 5
}
